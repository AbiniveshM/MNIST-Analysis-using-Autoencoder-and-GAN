{
 "cells": [
  {
   "cell_type": "markdown",
   "metadata": {},
   "source": [
    "MNIST DATASET PREDICTION USING AUTOENCODER (A RNN MODEL)"
   ]
  },
  {
   "cell_type": "markdown",
   "metadata": {},
   "source": [
    "The MNIST dataset is a large collection of handwritten digits, consisting of 70,000 images of size 28x28 pixels. \n",
    "\n",
    "The dataset is divided into a training set of 60,000 examples and a test set of 10,000 examples. \n",
    "\n",
    "Each image is a grayscale representation of a handwritten digit, with pixel values ranging from 0 (black) to 1 (white).\n",
    "\n",
    "Key Features\n",
    "\n",
    "**Training Set**: 60,000 images of handwritten digits (0-9)\n",
    "\n",
    "**Test Set**: 10,000 images of handwritten digits (0-9)\n",
    "\n",
    "**Image Size**: 28x28 pixels\n",
    "\n",
    "**Pixel Values**: Grayscale, ranging from 0 (black) to 1 (white)\n",
    "\n",
    "**Target Data**: One-hot binary vectors of size 10, corresponding to the digit"
   ]
  },
  {
   "cell_type": "code",
   "execution_count": 2,
   "metadata": {},
   "outputs": [],
   "source": [
    "import numpy as np\n",
    "import matplotlib.pyplot as plt\n",
    "import tensorflow as tf\n",
    "from tensorflow.keras.datasets import mnist\n",
    "from tensorflow.keras.models import Sequential, Model\n",
    "from tensorflow.keras.layers import Dense, Flatten, Reshape, LeakyReLU, BatchNormalization, GRU, Input\n",
    "from tensorflow.keras.optimizers import Adam\n",
    "\n",
    "(x_train, _), (x_test, _) = mnist.load_data()\n",
    "x_train = (x_train.astype(np.float32) - 127.5) / 127.5 \n",
    "x_train = np.expand_dims(x_train, axis=-1) \n",
    "\n",
    "x_test = (x_test.astype(np.float32) - 127.5) / 127.5 \n",
    "x_test = np.expand_dims(x_test, axis=-1) \n"
   ]
  },
  {
   "cell_type": "markdown",
   "metadata": {},
   "source": [
    "BUILDING ENCODER"
   ]
  },
  {
   "cell_type": "code",
   "execution_count": 3,
   "metadata": {},
   "outputs": [],
   "source": [
    "def build_encoder(input_shape):\n",
    "    inputs = Input(shape=input_shape)\n",
    "    x = Flatten()(inputs)\n",
    "    x = Dense(128, activation='relu')(x)\n",
    "    x = Reshape((128, 1))(x)\n",
    "    encoded = GRU(64, return_sequences=False)(x)\n",
    "    return Model(inputs, encoded, name='encoder')\n"
   ]
  },
  {
   "cell_type": "markdown",
   "metadata": {},
   "source": [
    "BUILDING DECODER"
   ]
  },
  {
   "cell_type": "code",
   "execution_count": 4,
   "metadata": {},
   "outputs": [],
   "source": [
    "def build_decoder(latent_dim):\n",
    "    latent_inputs = Input(shape=(latent_dim,))\n",
    "    x = Dense(128, activation='relu')(latent_inputs)\n",
    "    x = Reshape((128, 1))(x)\n",
    "    x = GRU(128, return_sequences=True)(x)\n",
    "    x = GRU(128, return_sequences=False)(x)\n",
    "    x = Dense(28 * 28, activation='tanh')(x)\n",
    "    decoded = Reshape((28, 28, 1))(x)\n",
    "    return Model(latent_inputs, decoded, name='decoder')\n"
   ]
  },
  {
   "cell_type": "markdown",
   "metadata": {},
   "source": [
    "COMPILING THE MODEL"
   ]
  },
  {
   "cell_type": "code",
   "execution_count": 5,
   "metadata": {},
   "outputs": [],
   "source": [
    "input_shape = (28, 28, 1)\n",
    "latent_dim = 64\n",
    "\n",
    "encoder = build_encoder(input_shape)\n",
    "decoder = build_decoder(latent_dim)\n",
    "\n",
    "inputs = Input(shape=input_shape)\n",
    "encoded = encoder(inputs)\n",
    "decoded = decoder(encoded)\n",
    "\n",
    "autoencoder = Model(inputs, decoded, name='autoencoder')\n",
    "autoencoder.compile(optimizer='adam', loss='mse')\n"
   ]
  },
  {
   "cell_type": "markdown",
   "metadata": {},
   "source": [
    "TRAINING MODEL WITH 5 EPOCHS"
   ]
  },
  {
   "cell_type": "code",
   "execution_count": 9,
   "metadata": {},
   "outputs": [
    {
     "name": "stdout",
     "output_type": "stream",
     "text": [
      "Epoch 1/5\n",
      "938/938 [==============================] - 500s 533ms/step - loss: 0.2394 - val_loss: 0.1831\n",
      "Epoch 2/5\n",
      "938/938 [==============================] - 556s 593ms/step - loss: 0.1508 - val_loss: 0.1320\n",
      "Epoch 3/5\n",
      "938/938 [==============================] - 579s 617ms/step - loss: 0.1236 - val_loss: 0.1137\n",
      "Epoch 4/5\n",
      "938/938 [==============================] - 606s 646ms/step - loss: 0.1096 - val_loss: 0.1036\n",
      "Epoch 5/5\n",
      "938/938 [==============================] - 600s 640ms/step - loss: 0.0992 - val_loss: 0.0934\n"
     ]
    },
    {
     "data": {
      "text/plain": [
       "<keras.callbacks.History at 0x25af253a650>"
      ]
     },
     "execution_count": 9,
     "metadata": {},
     "output_type": "execute_result"
    }
   ],
   "source": [
    "autoencoder.fit(x_train, x_train, epochs=5, batch_size=64, validation_data=(x_test, x_test))\n"
   ]
  },
  {
   "cell_type": "markdown",
   "metadata": {},
   "source": [
    "VISUALIZATION OF REAL AND PREDICTED DATA"
   ]
  },
  {
   "cell_type": "code",
   "execution_count": 10,
   "metadata": {},
   "outputs": [
    {
     "name": "stdout",
     "output_type": "stream",
     "text": [
      "1/1 [==============================] - 1s 771ms/step\n"
     ]
    },
    {
     "data": {
      "image/png": "[encoded data removed]",
      "text/plain": [
       "<Figure size 1600x400 with 16 Axes>"
      ]
     },
     "metadata": {},
     "output_type": "display_data"
    }
   ],
   "source": [
    "def visualize_real_vs_reconstructed_data(x_test, autoencoder, num_images=8):\n",
    "    decoded_imgs = autoencoder.predict(x_test[:num_images])\n",
    "    real_imgs = 0.5 * x_test[:num_images] + 0.5  \n",
    "    decoded_imgs = 0.5 * decoded_imgs + 0.5\n",
    "\n",
    "    fig, axs = plt.subplots(2, num_images, figsize=(2 * num_images, 4))\n",
    "    for i in range(num_images):\n",
    "        axs[0, i].imshow(real_imgs[i, :, :, 0], cmap='gray')\n",
    "        axs[0, i].axis('off')\n",
    "        axs[0, i].set_title(\"Original\")\n",
    "        axs[1, i].imshow(decoded_imgs[i, :, :, 0], cmap='gray')\n",
    "        axs[1, i].axis('off')\n",
    "        axs[1, i].set_title(\"Reconstructed\")\n",
    "    plt.show()\n",
    "\n",
    "visualize_real_vs_reconstructed_data(x_test, autoencoder, num_images=8)\n"
   ]
  },
  {
   "cell_type": "code",
   "execution_count": 6,
   "metadata": {},
   "outputs": [
    {
     "name": "stdout",
     "output_type": "stream",
     "text": [
      "\u001b[1m313/313\u001b[0m \u001b[32m━━━━━━━━━━━━━━━━━━━━\u001b[0m\u001b[37m\u001b[0m \u001b[1m14s\u001b[0m 44ms/step\n",
      "Mean Squared Error (MSE) on Test Data: 0.9258\n"
     ]
    }
   ],
   "source": [
    "from sklearn.metrics import mean_squared_error\n",
    "reconstructed_imgs = autoencoder.predict(x_test)\n",
    "mse = np.mean(np.square(x_test - reconstructed_imgs))\n",
    "\n",
    "print(f'Mean Squared Error (MSE) on Test Data: {mse:.4f}')\n"
   ]
  },
  {
   "cell_type": "markdown",
   "metadata": {},
   "source": [
    "If the goal is to reconstruct existing data accurately, the autoencoder with an MSE of 0.9625 would be more optimal because it directly minimizes the reconstruction error."
   ]
  }
 ],
 "metadata": {
  "kernelspec": {
   "display_name": "Python 3",
   "language": "python",
   "name": "python3"
  },
  "language_info": {
   "codemirror_mode": {
    "name": "ipython",
    "version": 3
   },
   "file_extension": ".py",
   "mimetype": "text/x-python",
   "name": "python",
   "nbconvert_exporter": "python",
   "pygments_lexer": "ipython3",
   "version": "3.11.2"
  }
 },
 "nbformat": 4,
 "nbformat_minor": 2
}
